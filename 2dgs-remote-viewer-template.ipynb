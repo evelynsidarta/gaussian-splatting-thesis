{
 "cells": [
  {
   "cell_type": "markdown",
   "metadata": {},
   "source": [
    "# 2D Gaussian Splatting Remote Viewer Template for Google Colab\n",
    "\n",
    "## Requirements:\n",
    "1. Dataset uploaded to Google Drive\n",
    "2. GPU selection: make sure runtime is using GPU\n",
    "(Hint: go to Runtime -> Change Runtime Type -> Pick \"T4 GPU\" or any other options with GPU) in the Hardware Accelerator"
   ]
  },
  {
   "cell_type": "markdown",
   "metadata": {},
   "source": [
    "## Mount folder in Colab\n",
    "skip this step is folder is already mounted in google colab"
   ]
  },
  {
   "cell_type": "code",
   "execution_count": null,
   "metadata": {
    "vscode": {
     "languageId": "plaintext"
    }
   },
   "outputs": [],
   "source": [
    "from google.colab import drive\n",
    "import os\n",
    "\n",
    "# This will mount your google drive under 'MyDrive' (assuming all datasets that's going to be used is in this folder)\n",
    "drive.mount('/content/gdrive', force_remount = True)"
   ]
  },
  {
   "cell_type": "markdown",
   "metadata": {},
   "source": [
    "## Checking CUDA and GPU version\n",
    "! if this step terminates without printing anything, check if GPU is actually available"
   ]
  },
  {
   "cell_type": "markdown",
   "metadata": {},
   "source": [
    "import torch\n",
    "\n",
    "if torch.cuda.is_available():\n",
    "    print(\"CUDA Version: \", torch.version.cuda)\n",
    "    print(\"GPU: \", torch.cuda.get_device_name(0))"
   ]
  },
  {
   "cell_type": "markdown",
   "metadata": {},
   "source": [
    "## Cloning 2DGS repository\n",
    "this will clone a branch that is made from the latest version of 2DGS repository as of November 2024"
   ]
  },
  {
   "cell_type": "code",
   "execution_count": null,
   "metadata": {
    "vscode": {
     "languageId": "plaintext"
    }
   },
   "outputs": [],
   "source": [
    "%cd /content\n",
    "!git clone https://github.com/evelynsidarta/2d-gaussian-splatting-feb-2025.git --recursive\n",
    "!pip install -q plyfile"
   ]
  },
  {
   "cell_type": "code",
   "execution_count": null,
   "metadata": {
    "vscode": {
     "languageId": "plaintext"
    }
   },
   "outputs": [],
   "source": [
    "import os\n",
    "os.environ['CUDA_HOME'] = '/usr/local/cuda' #ensure that the CUDA path is correct\n",
    "%cd /content/2d-gaussian-splatting/\n",
    "!pip install ninja\n",
    "!pip install submodules/simple-knn\n",
    "!pip install submodules/diff-surfel-rasterization"
   ]
  },
  {
   "cell_type": "code",
   "execution_count": null,
   "metadata": {
    "vscode": {
     "languageId": "plaintext"
    }
   },
   "outputs": [],
   "source": [
    "## Cloning 2DGS remote viewer repository\n",
    "this will clone a branch that is made from the latest version of 2DGS remote viewer repository as of February 2025"
   ]
  },
  {
   "cell_type": "code",
   "execution_count": null,
   "metadata": {
    "vscode": {
     "languageId": "plaintext"
    }
   },
   "outputs": [],
   "source": [
    "%cd /content/\n",
    "!git clone https://github.com/evelynsidarta/2dgs-remote-viewer-feb-2025.git --recursive"
   ]
  },
  {
   "cell_type": "code",
   "execution_count": null,
   "metadata": {
    "vscode": {
     "languageId": "plaintext"
    }
   },
   "outputs": [],
   "source": [
    "!pip install viser==0.1.29\n",
    "!pip install splines  \n",
    "!pip install lightning\n",
    "!pip install -r /content/2dgs-remote-viewer-feb-2025/requirements.txt"
   ]
  },
  {
   "cell_type": "code",
   "execution_count": null,
   "metadata": {
    "vscode": {
     "languageId": "plaintext"
    }
   },
   "outputs": [],
   "source": [
    "## Viewing 2DGS model\n",
    "replace {path} with the path to the model"
   ]
  },
  {
   "cell_type": "code",
   "execution_count": null,
   "metadata": {
    "vscode": {
     "languageId": "plaintext"
    }
   },
   "outputs": [],
   "source": [
    "%cd /content/2dgs-remote-viewer-feb-2025\n",
    "!python viewer.py {path}"
   ]
  }
 ],
 "metadata": {
  "language_info": {
   "name": "python"
  }
 },
 "nbformat": 4,
 "nbformat_minor": 2
}
