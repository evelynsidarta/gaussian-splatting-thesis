{
 "cells": [
  {
   "cell_type": "markdown",
   "metadata": {},
   "source": [
    "# 3D Gaussian Splatting Template for Google Colab\n",
    "\n",
    "## Requirements:\n",
    "1. Dataset uploaded to Google Drive under folder \"dataset\"\n",
    "2. GPU selection: make sure runtime is using GPU\n",
    "(Hint: go to Runtime -> Change Runtime Type -> Pick \"T4 GPU\" or any other options with GPU) in the Hardware Accelerator"
   ]
  },
  {
   "cell_type": "markdown",
   "metadata": {},
   "source": [
    "## Mount folder in Colab\n",
    "skip this step is folder is already mounted in google colab"
   ]
  },
  {
   "cell_type": "code",
   "execution_count": null,
   "metadata": {
    "vscode": {
     "languageId": "plaintext"
    }
   },
   "outputs": [],
   "source": [
    "from google.colab import drive\n",
    "import os\n",
    "\n",
    "# This will mount your google drive under 'MyDrive' (assuming all datasets that's going to be used is in this folder)\n",
    "drive.mount('/content/gdrive', force_remount = True)"
   ]
  },
  {
   "cell_type": "markdown",
   "metadata": {},
   "source": [
    "## Checking CUDA and GPU version\n",
    "! if this step terminates without printing anything, check if GPU is actually available"
   ]
  },
  {
   "cell_type": "code",
   "execution_count": null,
   "metadata": {
    "vscode": {
     "languageId": "plaintext"
    }
   },
   "outputs": [],
   "source": [
    "import torch\n",
    "\n",
    "if torch.cuda.is_available():\n",
    "    print(\"CUDA Version: \", torch.version.cuda)\n",
    "    print(\"GPU: \", torch.cuda.get_device_name(0))"
   ]
  },
  {
   "cell_type": "markdown",
   "metadata": {},
   "source": [
    "## Cloning Gaussian Splatting repository\n",
    "this will clone a branch that is made from the latest version of Gaussian Splatting repository as of November 2024"
   ]
  },
  {
   "cell_type": "code",
   "execution_count": null,
   "metadata": {
    "vscode": {
     "languageId": "plaintext"
    }
   },
   "outputs": [],
   "source": [
    "%cd /content\n",
    "!git clone --recursive https://github.com/evelynsidarta/gaussian-splatting-nov-2024\n",
    "!pip install -q plyfile\n",
    "\n",
    "%cd /content/gaussian-splatting-nov-2024\n",
    "!pip install -q /content/gaussian-splatting-nov-2024/submodules/diff-gaussian-rasterization\n",
    "!pip install -q /content/gaussian-splatting-nov-2024/submodules/simple-knn"
   ]
  },
  {
   "cell_type": "markdown",
   "metadata": {},
   "source": [
    "## Installing dependencies for COLMAP \n",
    "not necessary if not doing dataset conversion"
   ]
  },
  {
   "cell_type": "code",
   "execution_count": null,
   "metadata": {
    "vscode": {
     "languageId": "plaintext"
    }
   },
   "outputs": [],
   "source": [
    "!sudo apt-get install -y \\\n",
    "    git \\\n",
    "    cmake \\\n",
    "    ninja-build \\\n",
    "    build-essential \\\n",
    "    libboost-program-options-dev \\\n",
    "    libboost-filesystem-dev \\\n",
    "    libboost-graph-dev \\\n",
    "    libboost-system-dev \\\n",
    "    libboost-regex-dev \\\n",
    "    libboost-test-dev \\\n",
    "    libeigen3-dev \\\n",
    "    libflann-dev \\\n",
    "    libfreeimage-dev \\\n",
    "    libmetis-dev \\\n",
    "    libgoogle-glog-dev \\\n",
    "    libgtest-dev \\\n",
    "    libsqlite3-dev \\\n",
    "    libglew-dev \\\n",
    "    qtbase5-dev \\\n",
    "    libqt5opengl5-dev \\\n",
    "    libcgal-dev \\\n",
    "    libceres-dev \\\n",
    "    libsuitesparse-dev \\\n",
    "    libgflags-dev \\\n",
    "    libpng-dev \\\n",
    "    libjpeg-dev \\\n",
    "    libtiff-dev \\\n",
    "    libxxf86vm1 \\\n",
    "    libxxf86vm-dev \\\n",
    "    libxi-dev \\\n",
    "    libxrandr-dev"
   ]
  },
  {
   "cell_type": "markdown",
   "metadata": {},
   "source": [
    "## Building COLMAP\n",
    "not necessary if not doing dataset conversion"
   ]
  },
  {
   "cell_type": "code",
   "execution_count": null,
   "metadata": {
    "vscode": {
     "languageId": "plaintext"
    }
   },
   "outputs": [],
   "source": [
    "%cd /content\n",
    "!git clone https://github.com/evelynsidarta/colmap-feb-2025.git\n",
    "%cd colmap\n",
    "!mkdir build\n",
    "%cd build\n",
    "!cmake ..\n",
    "!make -j$(nproc)\n",
    "!sudo make install"
   ]
  },
  {
   "cell_type": "markdown",
   "metadata": {},
   "source": [
    "## Dataset conversion with COLMAP\n",
    "not needed if not doing dataset conversion <br>\n",
    "! you need to have installed and finished building COLMAP before this step <br>\n",
    "! remember to first mount the dataset to be converted and then change {path} to the actual path to the dataset <br>\n",
    "! make sure there is an input folder in the path being submitted to COLMAP <br>"
   ]
  },
  {
   "cell_type": "code",
   "execution_count": null,
   "metadata": {
    "vscode": {
     "languageId": "plaintext"
    }
   },
   "outputs": [],
   "source": [
    "# replace {path} before running\n",
    "%cd /content/gaussian-splatting-nov-2024\n",
    "!python convert.py -s {path} # example: '/content/gdrive/MyDrive/dataset/truck'"
   ]
  },
  {
   "cell_type": "markdown",
   "metadata": {},
   "source": [
    "## Dataset training step\n",
    "! remember to first mount the dataset to be used and then change {path} to the actual path to the dataset"
   ]
  },
  {
   "cell_type": "code",
   "execution_count": null,
   "metadata": {
    "vscode": {
     "languageId": "plaintext"
    }
   },
   "outputs": [],
   "source": [
    "# Replace {path} with the path to the dataset\n",
    "# --save_iterations: arg for saved checkpoints. Set different number if you want.\n",
    "%cd /content/gaussian-splatting-nov-2024\n",
    "!python train.py -s {path} --iterations 30000 --save_iterations 10000 20000 30000\n",
    "     "
   ]
  },
  {
   "cell_type": "markdown",
   "metadata": {},
   "source": [
    "## Zip and Download output file\n",
    "(you can also just download the .ply file or drag the output from /content/gaussian-splatting/output to your google drive folder)\n"
   ]
  },
  {
   "cell_type": "code",
   "execution_count": null,
   "metadata": {
    "vscode": {
     "languageId": "plaintext"
    }
   },
   "outputs": [],
   "source": [
    "from google.colab import files\n",
    "\n",
    "!zip -r /content/output.zip /content/gaussian-splatting/MyDrive/output\n",
    "files.download(\"/content/output.zip\")"
   ]
  }
 ],
 "metadata": {
  "kernelspec": {
   "display_name": "Python 3 (ipykernel)",
   "language": "python",
   "name": "python3"
  },
  "language_info": {
   "codemirror_mode": {
    "name": "ipython",
    "version": 3
   },
   "file_extension": ".py",
   "mimetype": "text/x-python",
   "name": "python",
   "nbconvert_exporter": "python",
   "pygments_lexer": "ipython3",
   "version": "3.7.1"
  }
 },
 "nbformat": 4,
 "nbformat_minor": 2
}
